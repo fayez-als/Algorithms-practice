{
 "cells": [
  {
   "cell_type": "markdown",
   "metadata": {},
   "source": [
    "# Merge Sort\n",
    "\n",
    "Merge Sort is a Divide and Conquer algorithm. It divides the input array into two halves, calls itself for the two halves, and then merges the two sorted halves. -Source: Wikipedia\n",
    "\n",
    "\n",
    "\n",
    "\n",
    "### Proof of Correctness\n",
    "\n",
    "<img src=\"Merge_Sort.png\"  width=\"700\" height=\"350\">\n",
    "\n",
    "### Time Complexity\n",
    "\n",
    "**Average Case**: O(n*logn)\n",
    "\n"
   ]
  },
  {
   "cell_type": "markdown",
   "metadata": {},
   "source": []
  },
  {
   "cell_type": "code",
   "execution_count": 567,
   "metadata": {},
   "outputs": [],
   "source": [
    "\n",
    "def merge(arr,start,half,end):\n",
    "    n1 = half-start+1\n",
    "    n2 = end-half\n",
    "    L = [None]*(n1+1)\n",
    "    R = [None]*(n2+1)\n",
    "    for i in range(n1):\n",
    "        L[i]= arr[start+i]\n",
    "    for j in range(n2):\n",
    "        R[j] = arr[half+j+1]\n",
    "        \n",
    "    L[n1] = float('inf')\n",
    "    R[n2] = float('inf')\n",
    "    \n",
    "    i=0\n",
    "    j=0\n",
    "    \n",
    "    for k in range(start,end+1):\n",
    "        \n",
    "        if L[i]== float('inf'):\n",
    "            \n",
    "            arr[k] = R[j]\n",
    "            j+=1\n",
    "        elif R[j] == float('inf'):\n",
    "            arr[k] = L[i]\n",
    "            i+=1\n",
    "            \n",
    "            \n",
    "        else:\n",
    "            if L[i] <= R[j]:\n",
    "                arr[k] = L[i]\n",
    "                \n",
    "                i+=1\n",
    "            else:\n",
    "                arr[k] = R[j]\n",
    "                j+=1\n"
   ]
  },
  {
   "cell_type": "code",
   "execution_count": 568,
   "metadata": {},
   "outputs": [],
   "source": [
    "def merge_sort(arr,start,end):\n",
    "    if start < end:\n",
    "        \n",
    "    \n",
    "        half = (start+(end-1))//2\n",
    "    \n",
    "        merge_sort(arr,start,half)\n",
    "        merge_sort(arr,half+1,end)\n",
    "    \n",
    "        merge(arr,start,half,end)"
   ]
  },
  {
   "cell_type": "code",
   "execution_count": 564,
   "metadata": {},
   "outputs": [],
   "source": [
    "arr=[4,4,3,2,5,7,5,4,1,0]"
   ]
  },
  {
   "cell_type": "code",
   "execution_count": 565,
   "metadata": {},
   "outputs": [],
   "source": [
    "merge_sort(arr,0,len(arr)-1)"
   ]
  },
  {
   "cell_type": "code",
   "execution_count": 566,
   "metadata": {},
   "outputs": [
    {
     "data": {
      "text/plain": [
       "[0, 1, 2, 3, 4, 4, 4, 5, 5, 7]"
      ]
     },
     "execution_count": 566,
     "metadata": {},
     "output_type": "execute_result"
    }
   ],
   "source": [
    "arr"
   ]
  },
  {
   "cell_type": "code",
   "execution_count": null,
   "metadata": {},
   "outputs": [],
   "source": []
  }
 ],
 "metadata": {
  "kernelspec": {
   "display_name": "Python 3",
   "language": "python",
   "name": "python3"
  },
  "language_info": {
   "codemirror_mode": {
    "name": "ipython",
    "version": 3
   },
   "file_extension": ".py",
   "mimetype": "text/x-python",
   "name": "python",
   "nbconvert_exporter": "python",
   "pygments_lexer": "ipython3",
   "version": "3.8.3"
  }
 },
 "nbformat": 4,
 "nbformat_minor": 4
}
