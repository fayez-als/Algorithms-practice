{
 "cells": [
  {
   "cell_type": "markdown",
   "metadata": {},
   "source": [
    "### Merge Sort"
   ]
  },
  {
   "cell_type": "markdown",
   "metadata": {},
   "source": [
    "This is a recursive function based on divide and conquer algorithm, it has a worst case time complexity of Thetha(n*logn)"
   ]
  },
  {
   "cell_type": "code",
   "execution_count": 567,
   "metadata": {},
   "outputs": [],
   "source": [
    "\n",
    "\n",
    "\n",
    "def merge(arr,start,half,end):\n",
    "    n1 = half-start+1\n",
    "    n2 = end-half\n",
    "    \n",
    "    L = [None]*(n1+1)\n",
    "    R = [None]*(n2+1)\n",
    "    \n",
    "    for i in range(n1):\n",
    "        L[i]= arr[start+i]\n",
    "        \n",
    "    for j in range(n2):\n",
    "        R[j] = arr[half+j+1]\n",
    "        \n",
    "    L[n1] = float('inf')\n",
    "    R[n2] = float('inf')\n",
    "    \n",
    "    \n",
    "    \n",
    "    \n",
    "    i=0\n",
    "    j=0\n",
    "    \n",
    "    \n",
    "    \n",
    "    \n",
    "    \n",
    "    for k in range(start,end+1):\n",
    "        \n",
    "        if L[i]== float('inf'):\n",
    "            \n",
    "            arr[k] = R[j]\n",
    "            j+=1\n",
    "        elif R[j] == float('inf'):\n",
    "            arr[k] = L[i]\n",
    "            i+=1\n",
    "            \n",
    "            \n",
    "        else:\n",
    "            if L[i] <= R[j]:\n",
    "                arr[k] = L[i]\n",
    "                \n",
    "                i+=1\n",
    "            else:\n",
    "                arr[k] = R[j]\n",
    "                j+=1\n",
    "    \n",
    "    \n",
    "    \n",
    "    \n",
    "    \n",
    "    "
   ]
  },
  {
   "cell_type": "code",
   "execution_count": 568,
   "metadata": {},
   "outputs": [],
   "source": [
    "def merge_sort(arr,start,end):\n",
    "    if start < end:\n",
    "        \n",
    "    \n",
    "        half = (start+(end-1))//2\n",
    "    \n",
    "        merge_sort(arr,start,half)\n",
    "        merge_sort(arr,half+1,end)\n",
    "    \n",
    "        merge(arr,start,half,end)"
   ]
  },
  {
   "cell_type": "code",
   "execution_count": 564,
   "metadata": {},
   "outputs": [],
   "source": [
    "arr=[4,4,3,2,5,7,5,4,1,0]"
   ]
  },
  {
   "cell_type": "code",
   "execution_count": null,
   "metadata": {},
   "outputs": [],
   "source": []
  },
  {
   "cell_type": "code",
   "execution_count": 565,
   "metadata": {},
   "outputs": [],
   "source": [
    "merge_sort(arr,0,len(arr)-1)"
   ]
  },
  {
   "cell_type": "code",
   "execution_count": 566,
   "metadata": {},
   "outputs": [
    {
     "data": {
      "text/plain": [
       "[0, 1, 2, 3, 4, 4, 4, 5, 5, 7]"
      ]
     },
     "execution_count": 566,
     "metadata": {},
     "output_type": "execute_result"
    }
   ],
   "source": [
    "arr"
   ]
  },
  {
   "cell_type": "code",
   "execution_count": null,
   "metadata": {},
   "outputs": [],
   "source": []
  }
 ],
 "metadata": {},
 "nbformat": 4,
 "nbformat_minor": 4
}
