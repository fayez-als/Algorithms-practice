{
 "metadata": {
  "language_info": {
   "codemirror_mode": {
    "name": "ipython",
    "version": 3
   },
   "file_extension": ".py",
   "mimetype": "text/x-python",
   "name": "python",
   "nbconvert_exporter": "python",
   "pygments_lexer": "ipython3",
   "version": "3.8.3-final"
  },
  "orig_nbformat": 2,
  "kernelspec": {
   "name": "python3",
   "display_name": "Python 3.8.3 64-bit (conda)",
   "metadata": {
    "interpreter": {
     "hash": "c50b438c8d74c2f8e87535b55363513e1c6d3188e1f425c448c098b913074ab9"
    }
   }
  }
 },
 "nbformat": 4,
 "nbformat_minor": 2,
 "cells": [
  {
   "source": [
    "## Max Subarray Divide And Conquer Algorithm\n",
    "\n",
    "In computer science, the maximum sum subarray problem is the task of finding a contiguous subarray with the largest sum, within a given one-dimensional array A[1...n] of numbers. \n",
    "\n",
    "\n",
    "\n",
    "\n",
    "\n",
    "\n",
    "\n"
   ],
   "cell_type": "markdown",
   "metadata": {}
  },
  {
   "cell_type": "code",
   "execution_count": 181,
   "metadata": {},
   "outputs": [],
   "source": [
    " def kadane_left(arr):\n",
    "    \n",
    "    current_sum = 0\n",
    "    max_sum = -float('inf')\n",
    "\n",
    "    for i in range(len(arr)-1,-1,-1):\n",
    "        current_sum += arr[i] \n",
    "\n",
    "        if current_sum > max_sum:\n",
    "            \n",
    "            max_sum = current_sum\n",
    "            left = i\n",
    "    \n",
    "    return left,max_sum\n",
    "\n"
   ]
  },
  {
   "cell_type": "code",
   "execution_count": 172,
   "metadata": {},
   "outputs": [],
   "source": [
    "def kadane_right(arr):\n",
    "    \n",
    "    current_sum = 0\n",
    "\n",
    "    max_sum = -float('inf')\n",
    "    pair = 0\n",
    " \n",
    "    for i in range(len(arr)):\n",
    "\n",
    "        current_sum += arr[i] \n",
    "\n",
    "        if current_sum > max_sum:\n",
    "            \n",
    "            max_sum = current_sum\n",
    "            right=i\n",
    "    \n",
    "    return right,max_sum\n",
    "\n",
    " \n"
   ]
  },
  {
   "cell_type": "code",
   "execution_count": 173,
   "metadata": {},
   "outputs": [],
   "source": [
    "def maxCross(arr,start,half,end):\n",
    "    \n",
    "    left_index,left_sum = kadane_left(arr[start:half+1])\n",
    "    right_index,right_sum = kadane_right(arr[half+1:end+1])\n",
    "\n",
    "    return left_index,half+1+right_index,left_sum + right_sum\n"
   ]
  },
  {
   "cell_type": "code",
   "execution_count": 174,
   "metadata": {},
   "outputs": [],
   "source": [
    "def maxSubarray(arr,start,end):\n",
    "    half = (start+(end-1))//2\n",
    "\n",
    "\n",
    "    if start == end:\n",
    "        return start,end,arr[start]\n",
    "    \n",
    "    left_low,left_high,leftSum = maxSubarray(arr,start,half)\n",
    "\n",
    "    right_low,right_high,rightSum = maxSubarray(arr,half+1,end)\n",
    "\n",
    "    cross_low,cross_high,crossSum = maxCross(arr,start,half,end)\n",
    "\n",
    "\n",
    "    if leftSum >= rightSum and leftSum>=crossSum:\n",
    "        return left_low,left_high,leftSum\n",
    "\n",
    "    elif rightSum > leftSum and rightSum> crossSum:\n",
    "        return right_low,right_high,rightSum\n",
    "\n",
    "    else:\n",
    "        return cross_low,cross_high,crossSum\n",
    "\n",
    "    \n",
    "\n",
    "    \n",
    "    \n",
    "\n",
    "    \n",
    "\n"
   ]
  },
  {
   "cell_type": "code",
   "execution_count": 177,
   "metadata": {},
   "outputs": [],
   "source": [
    "arr = [13,-3,-25,20,-3,-16,-23,18,20,-7,12,-5,-22,15,-4,7]"
   ]
  },
  {
   "cell_type": "code",
   "execution_count": 178,
   "metadata": {},
   "outputs": [
    {
     "output_type": "execute_result",
     "data": {
      "text/plain": [
       "(7, 10, 43)"
      ]
     },
     "metadata": {},
     "execution_count": 178
    }
   ],
   "source": [
    "maxSubarray(arr,0,len(arr)-1)"
   ]
  },
  {
   "cell_type": "code",
   "execution_count": null,
   "metadata": {},
   "outputs": [],
   "source": []
  }
 ]
}